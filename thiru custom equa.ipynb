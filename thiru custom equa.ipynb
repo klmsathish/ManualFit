{
 "cells": [
  {
   "cell_type": "code",
   "execution_count": 1,
   "metadata": {},
   "outputs": [],
   "source": [
    "eqn=\"y=(m*x)^2+c\"\n",
    "# use eval for eqn solving"
   ]
  },
  {
   "cell_type": "code",
   "execution_count": 2,
   "metadata": {},
   "outputs": [],
   "source": [
    "eqn = eqn.replace('^',\"**\")\n",
    "split_eqn = dict()\n",
    "split_eqn[eqn.split('=')[0]] = eqn.split('=')[0]"
   ]
  },
  {
   "cell_type": "code",
   "execution_count": 3,
   "metadata": {},
   "outputs": [],
   "source": [
    "def check_num(var):\n",
    "    if var.isnumeric():\n",
    "        return int(var) \n",
    "    else:\n",
    "        return var\n",
    "    \n",
    "#  list(map( check_num,input(i+'=').split(' ')))\n",
    "\n",
    "def get_values(split_eqn):\n",
    "    for i in split_eqn:\n",
    "        split_eqn[i]=input(i+'=').split(' ')\n",
    "    return(split_eqn)"
   ]
  },
  {
   "cell_type": "code",
   "execution_count": 4,
   "metadata": {},
   "outputs": [],
   "source": [
    "for i in eqn.split('=')[1] if len(eqn.split('='))>1 else None:\n",
    "    if i.isalpha():\n",
    "        split_eqn[i]=[i,'v']  # v stands for variable"
   ]
  },
  {
   "cell_type": "code",
   "execution_count": 5,
   "metadata": {},
   "outputs": [
    {
     "name": "stdout",
     "output_type": "stream",
     "text": [
      "y=1\n",
      "m=2\n",
      "x=3\n",
      "c=4\n"
     ]
    }
   ],
   "source": [
    "split_eqn = get_values(split_eqn)"
   ]
  },
  {
   "cell_type": "code",
   "execution_count": 6,
   "metadata": {},
   "outputs": [],
   "source": [
    "solve_eqn = eqn.split('=')[1]\n",
    "for i in split_eqn:\n",
    "    solve_eqn =solve_eqn.replace(i,split_eqn[i][0])"
   ]
  },
  {
   "cell_type": "code",
   "execution_count": 7,
   "metadata": {},
   "outputs": [
    {
     "data": {
      "text/plain": [
       "'(2*3)**2+4'"
      ]
     },
     "execution_count": 7,
     "metadata": {},
     "output_type": "execute_result"
    }
   ],
   "source": [
    "solve_eqn"
   ]
  },
  {
   "cell_type": "code",
   "execution_count": 8,
   "metadata": {},
   "outputs": [
    {
     "data": {
      "text/plain": [
       "40"
      ]
     },
     "execution_count": 8,
     "metadata": {},
     "output_type": "execute_result"
    }
   ],
   "source": [
    "eval(solve_eqn)"
   ]
  },
  {
   "cell_type": "code",
   "execution_count": 9,
   "metadata": {},
   "outputs": [],
   "source": [
    "import pandas as pd\n",
    "df = pd.DataFrame(\n",
    "    {\n",
    "        'x':[1,2,3,4,5], \n",
    "        'y':[2,4,6,8,10]\n",
    "    }\n",
    ")"
   ]
  }
 ],
 "metadata": {
  "kernelspec": {
   "display_name": "Python 3",
   "language": "python",
   "name": "python3"
  },
  "language_info": {
   "codemirror_mode": {
    "name": "ipython",
    "version": 3
   },
   "file_extension": ".py",
   "mimetype": "text/x-python",
   "name": "python",
   "nbconvert_exporter": "python",
   "pygments_lexer": "ipython3",
   "version": "3.7.7"
  }
 },
 "nbformat": 4,
 "nbformat_minor": 5
}
